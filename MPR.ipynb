{
  "nbformat": 4,
  "nbformat_minor": 0,
  "metadata": {
    "colab": {
      "provenance": [],
      "authorship_tag": "ABX9TyNdKz4yuKwTmXnjdEg9CMi5",
      "include_colab_link": true
    },
    "kernelspec": {
      "name": "python3",
      "display_name": "Python 3"
    },
    "language_info": {
      "name": "python"
    }
  },
  "cells": [
    {
      "cell_type": "markdown",
      "metadata": {
        "id": "view-in-github",
        "colab_type": "text"
      },
      "source": [
        "<a href=\"https://colab.research.google.com/github/TushitPalamkar/PyTorch/blob/main/MPR.ipynb\" target=\"_parent\"><img src=\"https://colab.research.google.com/assets/colab-badge.svg\" alt=\"Open In Colab\"/></a>"
      ]
    },
    {
      "cell_type": "code",
      "execution_count": 34,
      "metadata": {
        "id": "hqYUxZf_BWIi"
      },
      "outputs": [],
      "source": [
        "import numpy as np\n",
        "import random\n",
        "import json\n",
        "import torch\n",
        "import nltk\n",
        "import torch.nn as nn\n",
        "from torch.utils.data import Dataset,DataLoader"
      ]
    },
    {
      "cell_type": "code",
      "source": [
        "from nltk.stem.porter import PorterStemmer\n",
        "stemmer=PorterStemmer()\n",
        "def tokenizer(sentence):\n",
        "  return nltk.word_tokenize(sentence)\n",
        "def stem(word):\n",
        "  return stemmer.stem(word.lower())"
      ],
      "metadata": {
        "id": "hwRiAzFRCGV3"
      },
      "execution_count": 35,
      "outputs": []
    },
    {
      "cell_type": "code",
      "source": [
        "def bag_of_words(tokenized_sentence,words):\n",
        "  bag=np.zeros(len(words),dtype=np.float32)\n",
        "  sentence_words=[stem(word) for word in tokenized_sentence]\n",
        "  for indx,w in enumerate(words):\n",
        "    if w in sentence_words:\n",
        "      bag[indx]=1;\n",
        "  return bag;"
      ],
      "metadata": {
        "id": "c-opY61AD187"
      },
      "execution_count": 36,
      "outputs": []
    },
    {
      "cell_type": "code",
      "source": [
        "with open('intents.json','r') as f:\n",
        "  intents=json.load(f)\n",
        "intents"
      ],
      "metadata": {
        "colab": {
          "base_uri": "https://localhost:8080/"
        },
        "id": "Jy5XdvqCFhBE",
        "outputId": "7bae9cd2-bc21-4376-c761-14391abfc9f8"
      },
      "execution_count": 37,
      "outputs": [
        {
          "output_type": "execute_result",
          "data": {
            "text/plain": [
              "{'intents': [{'tag': 'greeting',\n",
              "   'patterns': ['Hi', 'Hey', 'How are you', 'Hello', 'Good day'],\n",
              "   'responses': ['Hello! Welcome to our course platform.',\n",
              "    'Hi there! How can I assist you with your courses today?',\n",
              "    'Hey! What course information are you looking for?']},\n",
              "  {'tag': 'goodbye',\n",
              "   'patterns': ['Bye', 'See you later', 'Goodbye'],\n",
              "   'responses': ['Goodbye! Have a great day!',\n",
              "    \"See you soon! Don't hesitate to return for more course info.\"]},\n",
              "  {'tag': 'course_info',\n",
              "   'patterns': ['Tell me about your courses',\n",
              "    'What courses do you offer?',\n",
              "    'Can you give me details about the courses?'],\n",
              "   'responses': ['We offer a variety of courses in programming, data science, and more! What specific course are you interested in?',\n",
              "    'You can find courses in AI, web development, machine learning, and more. Which one interests you?']},\n",
              "  {'tag': 'enrollment',\n",
              "   'patterns': ['How do I enroll in a course?',\n",
              "    'What is the enrollment process?',\n",
              "    'Can I sign up for a course?'],\n",
              "   'responses': [\"To enroll, visit our website and select the course you want. You'll find an 'Enroll' button there.\",\n",
              "    'You can easily enroll by clicking on the course of your choice and following the registration steps.']},\n",
              "  {'tag': 'pricing',\n",
              "   'patterns': ['What are the course fees?',\n",
              "    'How much does it cost to take a course?',\n",
              "    'Are there any discounts available?'],\n",
              "   'responses': ['Course fees vary based on the program. Please check our pricing page for details.',\n",
              "    'Currently, we offer discounts for early enrollments. Would you like to know more?']},\n",
              "  {'tag': 'schedule',\n",
              "   'patterns': ['What is the schedule for the courses?',\n",
              "    'When do classes start?',\n",
              "    'Are there any upcoming sessions?'],\n",
              "   'responses': ['Classes typically start at the beginning of each month. You can find the exact schedule on our courses page.',\n",
              "    'Check our website for the latest course schedules and upcoming sessions.']},\n",
              "  {'tag': 'faq',\n",
              "   'patterns': ['Do you have any frequently asked questions?',\n",
              "    'Where can I find FAQs?',\n",
              "    'What common questions do you get?'],\n",
              "   'responses': [\"You can find FAQs on our website under the 'Help' section. If you have a specific question, feel free to ask!\",\n",
              "    'We have a dedicated FAQ section that addresses common inquiries. What would you like to know?']},\n",
              "  {'tag': 'feedback',\n",
              "   'patterns': ['I want to provide feedback',\n",
              "    'How can I leave feedback?',\n",
              "    'Where do I send my suggestions?'],\n",
              "   'responses': ['We appreciate your feedback! You can send your suggestions via our contact form on the website.',\n",
              "    \"Feel free to leave your feedback in the contact section of our website. We're always looking to improve!\"]}]}"
            ]
          },
          "metadata": {},
          "execution_count": 37
        }
      ]
    },
    {
      "cell_type": "code",
      "source": [
        "all_words=[]\n",
        "tags=[]\n",
        "xy=[]\n",
        "nltk.download('punkt')\n",
        "for intent in intents['intents']:\n",
        "  tag=intent['tag']\n",
        "  tags.append(tag)\n",
        "  for pattern in intent['patterns']:\n",
        "    word=tokenizer(pattern)\n",
        "    all_words.extend(word)\n",
        "    xy.append((word,tag))"
      ],
      "metadata": {
        "colab": {
          "base_uri": "https://localhost:8080/"
        },
        "id": "2ef0Pf72FtAB",
        "outputId": "50ca7e28-e0ec-44d9-d3f3-ed4f6b793472"
      },
      "execution_count": 38,
      "outputs": [
        {
          "output_type": "stream",
          "name": "stderr",
          "text": [
            "[nltk_data] Downloading package punkt to /root/nltk_data...\n",
            "[nltk_data]   Package punkt is already up-to-date!\n"
          ]
        }
      ]
    },
    {
      "cell_type": "code",
      "source": [
        "ignore_words=['?','.','!']\n",
        "all_words=[stem(w) for w in all_words if w not in ignore_words]\n",
        "all_words=sorted(set(all_words))\n",
        "tags=sorted(set(tags))"
      ],
      "metadata": {
        "id": "a-J2E4s_KZ7V"
      },
      "execution_count": 39,
      "outputs": []
    },
    {
      "cell_type": "code",
      "source": [
        "print(len(all_words),len(tags))"
      ],
      "metadata": {
        "colab": {
          "base_uri": "https://localhost:8080/"
        },
        "id": "GEE9yr8mLLqE",
        "outputId": "51bef546-6890-4e4a-95ac-c54a7abbe358"
      },
      "execution_count": 40,
      "outputs": [
        {
          "output_type": "stream",
          "name": "stdout",
          "text": [
            "66 8\n"
          ]
        }
      ]
    },
    {
      "cell_type": "code",
      "source": [
        "X_train=[]\n",
        "y_train=[]\n",
        "for(pattern_words,tag) in xy:\n",
        "  bag=bag_of_words(pattern_words,all_words)\n",
        "  X_train.append(bag)\n",
        "  label=tags.index(tag)\n",
        "  y_train.append(label)\n",
        "X_train=np.array(X_train)\n",
        "y_train=np.array(y_train)"
      ],
      "metadata": {
        "id": "2B82E0QFPPmG"
      },
      "execution_count": 41,
      "outputs": []
    },
    {
      "cell_type": "code",
      "source": [
        "class ChatBot(nn.Module):\n",
        "  def __init__(self,input_size,hidden_units,output_size):\n",
        "    super().__init__()\n",
        "    self.layers=nn.Sequential(\n",
        "        nn.Linear(in_features=input_size,out_features=hidden_units),\n",
        "        nn.ReLU(),\n",
        "        nn.Linear(in_features=hidden_units,out_features=hidden_units),\n",
        "        nn.ReLU(),\n",
        "        nn.Linear(in_features=hidden_units,out_features=output_size)\n",
        "    )\n",
        "  def forward(self,x):\n",
        "    return self.layers(x)"
      ],
      "metadata": {
        "id": "tPqgm0BiTf-N"
      },
      "execution_count": 42,
      "outputs": []
    },
    {
      "cell_type": "code",
      "source": [
        "num_epochs = 1000\n",
        "batch_size = 8\n",
        "learning_rate = 0.001\n",
        "input_size = len(X_train[0])\n",
        "hidden_size = 8\n",
        "output_size = len(tags)\n",
        "print(input_size, output_size)"
      ],
      "metadata": {
        "colab": {
          "base_uri": "https://localhost:8080/"
        },
        "id": "Pe8t2g0IUkLo",
        "outputId": "e64f917e-fede-4465-b467-90028d892882"
      },
      "execution_count": 43,
      "outputs": [
        {
          "output_type": "stream",
          "name": "stdout",
          "text": [
            "66 8\n"
          ]
        }
      ]
    },
    {
      "cell_type": "code",
      "source": [
        "class CharDataset(Dataset):\n",
        "  def __init__(self):\n",
        "    self.n_samples=len(X_train)\n",
        "    self.x_data=X_train\n",
        "    self.y_data=y_train\n",
        "  def __getitem__(self,index):\n",
        "    return self.x_data[index],self.y_data[index]\n",
        "  def __len__(self):\n",
        "    return self.n_samples\n",
        ""
      ],
      "metadata": {
        "id": "KeQ_RTcxU1-2"
      },
      "execution_count": 44,
      "outputs": []
    },
    {
      "cell_type": "code",
      "source": [
        "dataset=CharDataset()\n",
        "train_loader=DataLoader(dataset,batch_size=batch_size,shuffle=True,num_workers=0)\n",
        "model_0=ChatBot(input_size,hidden_size,output_size)\n",
        "loss=nn.CrossEntropyLoss()\n",
        "optimizer=torch.optim.Adam(model_0.parameters(),lr=learning_rate)"
      ],
      "metadata": {
        "id": "zZKYWMtzVi55"
      },
      "execution_count": 45,
      "outputs": []
    },
    {
      "cell_type": "code",
      "source": [
        "for epoch in range(num_epochs):\n",
        "  for (words,labels) in train_loader:\n",
        "    outputs=model_0(words)\n",
        "    loss_val=loss(outputs,labels)\n",
        "    optimizer.zero_grad()\n",
        "    loss_val.backward()\n",
        "    optimizer.step()\n",
        "  if (epoch+1)%100 == 0:\n",
        "    print(f\"Epochs:{epoch} | Loss:{loss_val.item():.4f}\")\n",
        "print(f\"Final Loss: {loss_val.item()}\")"
      ],
      "metadata": {
        "colab": {
          "base_uri": "https://localhost:8080/"
        },
        "id": "-_5d_r2QWab7",
        "outputId": "60b89630-1fc3-4930-c11c-f39385feba38"
      },
      "execution_count": 46,
      "outputs": [
        {
          "output_type": "stream",
          "name": "stdout",
          "text": [
            "Epochs:99 | Loss:0.6782\n",
            "Epochs:199 | Loss:0.0641\n",
            "Epochs:299 | Loss:0.0864\n",
            "Epochs:399 | Loss:0.0046\n",
            "Epochs:499 | Loss:0.0013\n",
            "Epochs:599 | Loss:0.0041\n",
            "Epochs:699 | Loss:0.0004\n",
            "Epochs:799 | Loss:0.0044\n",
            "Epochs:899 | Loss:0.0004\n",
            "Epochs:999 | Loss:0.0006\n",
            "Final Loss: 0.0005972169456072152\n"
          ]
        }
      ]
    },
    {
      "cell_type": "code",
      "source": [
        "bot_name = \"Sam\"\n",
        "print(\"Let's chat! (type 'quit' to exit)\")\n",
        "while True:\n",
        "    # sentence = \"do you use credit cards?\"\n",
        "    sentence = input(\"You: \")\n",
        "    if sentence == \"quit\":\n",
        "        break\n",
        "\n",
        "    sentence = tokenizer(sentence)\n",
        "    X = bag_of_words(sentence, all_words)\n",
        "    X = X.reshape(1, X.shape[0])\n",
        "    X=torch.tensor(X,dtype=torch.float32)\n",
        "\n",
        "    output = model_0(X)\n",
        "    _, predicted = torch.max(output, dim=1)\n",
        "\n",
        "    tag = tags[predicted.item()]\n",
        "\n",
        "    probs = torch.softmax(output, dim=1)\n",
        "    prob = probs[0][predicted.item()]\n",
        "    if prob.item() > 0.75:\n",
        "        for intent in intents['intents']:\n",
        "            if tag == intent[\"tag\"]:\n",
        "                print(f\"{bot_name}: {random.choice(intent['responses'])}\")\n",
        "    else:\n",
        "        print(f\"{bot_name}: I do not understand...\")"
      ],
      "metadata": {
        "colab": {
          "base_uri": "https://localhost:8080/"
        },
        "id": "0EaqP3NJXVq7",
        "outputId": "7f0ef5db-bcb6-4c26-ca25-fd02368ccf4e"
      },
      "execution_count": 101,
      "outputs": [
        {
          "metadata": {
            "tags": null
          },
          "name": "stdout",
          "output_type": "stream",
          "text": [
            "Let's chat! (type 'quit' to exit)\n",
            "Sam: Hello! Welcome to our course platform.\n",
            "Sam: I do not understand...\n",
            "Sam: You can find courses in AI, web development, machine learning, and more. Which one interests you?\n",
            "Sam: To enroll, visit our website and select the course you want. You'll find an 'Enroll' button there.\n"
          ]
        }
      ]
    },
    {
      "cell_type": "code",
      "source": [],
      "metadata": {
        "colab": {
          "base_uri": "https://localhost:8080/"
        },
        "id": "24zuwMwGXvVB",
        "outputId": "726ac4b7-77a3-4164-be85-517702a27af3"
      },
      "execution_count": 100,
      "outputs": [
        {
          "output_type": "stream",
          "name": "stdout",
          "text": [
            "tensor([6, 3, 3, 0, 1, 5, 5, 7])\n",
            "tensor([0, 0, 4, 7, 1, 2, 5, 7])\n",
            "tensor([5, 6, 2, 2, 6, 5, 4, 4])\n",
            "tensor([3, 1])\n"
          ]
        }
      ]
    },
    {
      "cell_type": "code",
      "source": [],
      "metadata": {
        "id": "HgvQJAezkUsp"
      },
      "execution_count": null,
      "outputs": []
    }
  ]
}